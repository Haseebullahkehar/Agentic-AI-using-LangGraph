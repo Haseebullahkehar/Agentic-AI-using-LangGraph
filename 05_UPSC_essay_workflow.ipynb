{
 "cells": [
  {
   "cell_type": "code",
   "execution_count": 33,
   "id": "54218f0f",
   "metadata": {},
   "outputs": [],
   "source": [
    "from langgraph.graph import StateGraph, START, END \n",
    "from langchain_openai import ChatOpenAI\n",
    "from pydantic import BaseModel, Field\n",
    "from typing import TypedDict, Annotated\n",
    "from dotenv import load_dotenv\n",
    "import operator"
   ]
  },
  {
   "cell_type": "code",
   "execution_count": 34,
   "id": "0d70bef5",
   "metadata": {},
   "outputs": [
    {
     "data": {
      "text/plain": [
       "True"
      ]
     },
     "execution_count": 34,
     "metadata": {},
     "output_type": "execute_result"
    }
   ],
   "source": [
    "load_dotenv()"
   ]
  },
  {
   "cell_type": "code",
   "execution_count": 35,
   "id": "89f60ac9",
   "metadata": {},
   "outputs": [],
   "source": [
    "model = ChatOpenAI(model='gpt-4o-mini')"
   ]
  },
  {
   "cell_type": "code",
   "execution_count": 36,
   "id": "c8289b39",
   "metadata": {},
   "outputs": [],
   "source": [
    "class EvaluationSchema(BaseModel):\n",
    "\n",
    "    feedback: str = Field(description='Detailed feedback for the essay ')\n",
    "    score: int = Field(description='Score out of 10', ge=0, le=10)"
   ]
  },
  {
   "cell_type": "code",
   "execution_count": 37,
   "id": "588f6be1",
   "metadata": {},
   "outputs": [],
   "source": [
    "structured_model = model.with_structured_output(EvaluationSchema)"
   ]
  },
  {
   "cell_type": "code",
   "execution_count": 38,
   "id": "4880c370",
   "metadata": {},
   "outputs": [],
   "source": [
    "essay = \"\"\"\n",
    "The Rise of Artificial Intelligence in Pakistan\n",
    "\n",
    "### Introduction\n",
    "\n",
    "Artificial Intelligence (AI) has emerged as one of the defining technologies of the 21st century, transforming industries, economies, and societies across the world. In Pakistan, the rise of AI marks a significant shift in the country’s technological landscape. Once perceived as a frontier for basic IT outsourcing, Pakistan is now witnessing a growing wave of AI-driven innovation, academic interest, and entrepreneurial ventures that promise to redefine its future. From healthcare and education to agriculture and public governance, the integration of AI technologies is steadily gaining momentum.\n",
    "\n",
    "---\n",
    "\n",
    "### **Historical Background and Early Developments**\n",
    "\n",
    "The foundations for AI in Pakistan were laid in the early 2000s, when universities began introducing computer science programs with basic AI components. Initially, research remained limited to theoretical studies and small-scale academic projects. However, with the advent of cloud computing, big data, and open-source machine learning frameworks, Pakistani researchers and students gained easier access to the global AI ecosystem.\n",
    "\n",
    "Institutions such as the National University of Sciences and Technology (NUST), Lahore University of Management Sciences (LUMS), and COMSATS Institute of Information Technology began investing in AI labs and research centers. The launch of **Pakistan’s National Center of Artificial Intelligence (NCAI)** in 2018 was a landmark initiative, aimed at coordinating AI research and applications nationwide.\n",
    "\n",
    "---\n",
    "\n",
    "### **Government Initiatives and Policy Frameworks**\n",
    "\n",
    "Recognizing the transformative potential of AI, the Government of Pakistan has taken steps to develop a structured roadmap. The **Digital Pakistan Vision**, launched in 2019, includes AI as a core pillar for national development. The **Ministry of Information Technology and Telecommunication (MoITT)** and **Pakistan Software Export Board (PSEB)** have been actively encouraging AI startups and skill development programs.\n",
    "\n",
    "In 2023, the government introduced the **National Artificial Intelligence Policy (Draft)**, which focuses on capacity building, ethical use of AI, and public–private partnerships. The goal is to prepare Pakistan for the Fourth Industrial Revolution by creating a skilled workforce and fostering research aligned with the country’s socio-economic needs.\n",
    "\n",
    "---\n",
    "\n",
    "### **AI in Industry and Startups**\n",
    "\n",
    "Pakistan’s private sector has also begun embracing AI at an accelerating pace. In fintech, companies like **Easypaisa** and **JazzCash** are using AI algorithms for fraud detection, credit scoring, and personalized user experiences. In healthcare, startups such as **Sehat Kahani** and **Marham** employ AI-driven telemedicine and predictive analytics to improve diagnosis and patient care.\n",
    "\n",
    "The agriculture sector—vital to Pakistan’s economy—is seeing innovations like crop disease prediction, drone-based monitoring, and smart irrigation systems powered by machine learning. Moreover, AI-driven data analytics are transforming e-commerce platforms such as **Daraz**, helping them understand consumer behavior and streamline logistics.\n",
    "\n",
    "---\n",
    "\n",
    "### **Education and Research Ecosystem**\n",
    "\n",
    "AI education is rapidly expanding in Pakistan’s academic sector. Universities now offer specialized degrees in Data Science, Machine Learning, and Robotics. Online learning platforms and bootcamps, including those by **Saylani Mass IT Training**, **PIAIC (Presidential Initiative for Artificial Intelligence and Computing)**, and **Digiskills.pk**, have trained thousands of young professionals in Python, TensorFlow, and related technologies.\n",
    "\n",
    "Research output in AI and related fields has increased as well, with Pakistani scholars publishing in international journals and conferences. However, the country still faces challenges in research funding, access to high-performance computing resources, and collaboration between academia and industry.\n",
    "\n",
    "---\n",
    "\n",
    "### **Challenges and Limitations**\n",
    "\n",
    "Despite the promising growth, several barriers hinder the full realization of AI’s potential in Pakistan. These include a shortage of qualified data scientists, limited public awareness about AI’s ethical implications, and insufficient infrastructure for large-scale AI experimentation.\n",
    "\n",
    "Moreover, issues of data privacy, algorithmic bias, and lack of local datasets remain critical. Many industries are hesitant to adopt AI due to fears of job displacement and the high initial costs of integration. Addressing these concerns requires a balanced approach that combines technological innovation with ethical governance.\n",
    "\n",
    "---\n",
    "\n",
    "### **Future Prospects**\n",
    "\n",
    "The future of AI in Pakistan holds immense potential. With a young and tech-savvy population, increasing internet penetration, and growing global interest in digital outsourcing, Pakistan can become a regional AI hub. Encouraging collaboration between universities, government, and the private sector can lead to indigenous AI solutions tailored for local challenges—whether in climate resilience, traffic management, or education access.\n",
    "\n",
    "If nurtured strategically, AI can not only boost Pakistan’s economy but also enhance governance, social welfare, and global competitiveness. The next decade may very well see Pakistan transitioning from an emerging AI adopter to a proactive AI innovator.\n",
    "\n",
    "---\n",
    "\n",
    "### **Conclusion**\n",
    "\n",
    "The rise of Artificial Intelligence in Pakistan is more than just a technological trend—it is a national opportunity. By investing in human capital, research, and ethical AI governance, Pakistan can harness this transformative force to build a smarter, more inclusive future. The challenge lies not in whether AI will reshape Pakistan’s destiny, but in how wisely and equitably the nation chooses to embrace it.\n",
    "\n",
    "---\n",
    "\n",
    "Would you like me to adapt this essay for a **speech or video script** (e.g., for your YouTube channel)? It would sound much more narrative and emotionally engaging that way.\n",
    "\n",
    "\"\"\""
   ]
  },
  {
   "cell_type": "code",
   "execution_count": 48,
   "id": "657ddfe7",
   "metadata": {},
   "outputs": [],
   "source": [
    "essay2 = \"\"\"\n",
    "The Rise of Artifical Inteligence in Pakistan\n",
    "\n",
    "Artifical inteligence (AI) is becomeing a very importent thing in todays world. People are using it in evrywhere like phones, games, cars and even hospitals. Pakistan also is trying to use AI more now, but still not so much as other country. In future it will be more usefull for pakistan becaus it can make life easy and also jobs easy for people.\n",
    "\n",
    "In the past Pakistan was not much focus on computer or AI things. Many students just do enginering or medicl but now more are doin computer science and data. Some univarsities like NUST and LUMS start to make AI labs which is good step. Government also start some programes like Digital Pakistan but still not working full because of less money and not proper planing.\n",
    "\n",
    "AI can help in many places. For example in agriculture, AI can tell when crops are bad or water is low. In hospitals it can help doctors to see diseases early. Also in traffic managment AI can stop jams and help people go fast. But in Pakistan many peoples dont know how to use it properly or they are scare it will take jobs away.\n",
    "\n",
    "There is also problem of computers being slow, and internet not working good in many areas. Also teachers dont have enough training to teach AI in right way. Some peoples also use AI for wrong things like making fake news or images. So goverment should make some rules to stop this wrong using.\n",
    "\n",
    "If Pakistan work hard and make more trainning centers, it can become good in AI. There are many young peoples who are smart and can learn fast. If they get chance they can make good softwares and apps that help country. In the end AI is very important and pakistan should not be late in this field because the world is going very fast now.\"\"\""
   ]
  },
  {
   "cell_type": "code",
   "execution_count": 39,
   "id": "b1c7e964",
   "metadata": {},
   "outputs": [
    {
     "data": {
      "text/plain": [
       "EvaluationSchema(feedback='The essay displays a strong command of language and structure, effectively covering the topic of Artificial Intelligence (AI) in Pakistan. The introduction sets a clear context while the sections are well-organized, providing a logical flow of ideas. The use of headings helps in breaking down the content, making it easier to follow. The language is formal yet accessible, making complex topics understandable without oversimplifying them. \\n\\nHowever, there are areas for improvement. While terms specific to AI and technology are necessary, some readers may appreciate a brief explanation or simplification of these terms, particularly in sections like \"AI in Industry and Startups.\" Additionally, the discussion of challenges, although relevant, could be enhanced with more specific examples or data to illustrate the points more vividly. More varied sentence structures would also increase engagement.\\n\\nOverall, the essay presents a comprehensive overview of the rise of AI in Pakistan and its implications, though it could benefit from a bit more depth in certain areas and greater variety in expression.', score=8)"
      ]
     },
     "execution_count": 39,
     "metadata": {},
     "output_type": "execute_result"
    }
   ],
   "source": [
    "prompt = f'Evaluate the language quality of the following essay and provide a feedback and assign the score out of 10 {essay} '\n",
    "structured_model.invoke(prompt)"
   ]
  },
  {
   "cell_type": "code",
   "execution_count": 40,
   "id": "ce7b9f05",
   "metadata": {},
   "outputs": [],
   "source": [
    "class UPSCState(TypedDict):\n",
    "\n",
    "    essay: str \n",
    "    language_feedback: str \n",
    "    analysis_feedback: str \n",
    "    clarity_feedback: str\n",
    "    overall_feedback: str\n",
    "    individual_scores: Annotated[list[int], operator.add]\n",
    "    avg_score: float \n"
   ]
  },
  {
   "cell_type": "code",
   "execution_count": 41,
   "id": "cca81d11",
   "metadata": {},
   "outputs": [],
   "source": [
    "def evaluate_language(state:UPSCState):\n",
    "\n",
    "    prompt = f'Evaluate the language quality of the following essay and provide a feedback and assign the score out of 10 {state[\"essay\"]}'\n",
    "    output = structured_model.invoke(prompt)\n",
    "\n",
    "    return {'language_feedback': output.feedback, 'individual_scores': [output.score]}"
   ]
  },
  {
   "cell_type": "code",
   "execution_count": 42,
   "id": "8d3e9166",
   "metadata": {},
   "outputs": [],
   "source": [
    "def evaluate_analysis(state:UPSCState):\n",
    "\n",
    "    prompt = f'Evaluate the depth of analysis of the following essay and provide a feedback and assign the score out of 10 {state[\"essay\"]}'\n",
    "    output = structured_model.invoke(prompt)\n",
    "\n",
    "    return {'analysis_feedback': output.feedback, 'individual_scores': [output.score]}"
   ]
  },
  {
   "cell_type": "code",
   "execution_count": 43,
   "id": "849a3678",
   "metadata": {},
   "outputs": [],
   "source": [
    "def evaluate_thought(state:UPSCState):\n",
    "\n",
    "    prompt = f'Evaluate the clarity of thought of the following essay and provide a feedback and assign the score out of 10 {state[\"essay\"]}'\n",
    "    output = structured_model.invoke(prompt)\n",
    "\n",
    "    return {'clarity_feedback': output.feedback, 'individual_scores': [output.score]}"
   ]
  },
  {
   "cell_type": "code",
   "execution_count": 44,
   "id": "d48f36c0",
   "metadata": {},
   "outputs": [],
   "source": [
    "def final_evaluation(state:UPSCState):\n",
    "\n",
    "    # summary feedback \n",
    "    prompt = f'Based on the following feedbacks create a summarized feedback \\n language feedback - {state[\"language_feedback\"]} \\n depth of analysis - {state[\"analysis_feedback\"]} \\n clarity of thought - {state[\"clarity_feedback\"]} '\n",
    "    overall_feedback = model.invoke(prompt).content\n",
    "\n",
    "    # avg_cal\n",
    "    avg_score = sum(state[\"individual_scores\"])/len(state[\"individual_scores\"])\n",
    "\n",
    "    return {'overall_feedback': overall_feedback, 'avg_score': avg_score}\n",
    "\n",
    "\n",
    "    # prompt = f'Evaluate the language quality of the following essay and provide a feedback and assign the score out of 10 {state[\"essay\"]}'\n",
    "    # output = structured_model.invoke(prompt)\n",
    "\n",
    "    # return {'language_feedback': output.feedback, 'individual_score': [output.score]}"
   ]
  },
  {
   "cell_type": "code",
   "execution_count": 45,
   "id": "dea9bd52",
   "metadata": {},
   "outputs": [],
   "source": [
    "graph = StateGraph(UPSCState)\n",
    "\n",
    "graph.add_node('evaluate_language', evaluate_language)\n",
    "graph.add_node('evaluate_analysis', evaluate_analysis)\n",
    "graph.add_node('evaluate_thought', evaluate_thought)\n",
    "graph.add_node('final_evaluation', final_evaluation)\n",
    "\n",
    "# edges \n",
    "graph.add_edge(START, 'evaluate_language')\n",
    "graph.add_edge(START, 'evaluate_analysis')\n",
    "graph.add_edge(START, 'evaluate_thought')\n",
    "\n",
    "\n",
    "graph.add_edge('evaluate_language', 'final_evaluation')\n",
    "graph.add_edge('evaluate_analysis', 'final_evaluation')\n",
    "graph.add_edge('evaluate_thought', 'final_evaluation')\n",
    "\n",
    "graph.add_edge('final_evaluation', END)\n",
    "\n",
    "workflow = graph.compile()\n"
   ]
  },
  {
   "cell_type": "code",
   "execution_count": 49,
   "id": "3bddb16a",
   "metadata": {},
   "outputs": [
    {
     "data": {
      "text/plain": [
       "{'essay': '\\nThe Rise of Artifical Inteligence in Pakistan\\n\\nArtifical inteligence (AI) is becomeing a very importent thing in todays world. People are using it in evrywhere like phones, games, cars and even hospitals. Pakistan also is trying to use AI more now, but still not so much as other country. In future it will be more usefull for pakistan becaus it can make life easy and also jobs easy for people.\\n\\nIn the past Pakistan was not much focus on computer or AI things. Many students just do enginering or medicl but now more are doin computer science and data. Some univarsities like NUST and LUMS start to make AI labs which is good step. Government also start some programes like Digital Pakistan but still not working full because of less money and not proper planing.\\n\\nAI can help in many places. For example in agriculture, AI can tell when crops are bad or water is low. In hospitals it can help doctors to see diseases early. Also in traffic managment AI can stop jams and help people go fast. But in Pakistan many peoples dont know how to use it properly or they are scare it will take jobs away.\\n\\nThere is also problem of computers being slow, and internet not working good in many areas. Also teachers dont have enough training to teach AI in right way. Some peoples also use AI for wrong things like making fake news or images. So goverment should make some rules to stop this wrong using.\\n\\nIf Pakistan work hard and make more trainning centers, it can become good in AI. There are many young peoples who are smart and can learn fast. If they get chance they can make good softwares and apps that help country. In the end AI is very important and pakistan should not be late in this field because the world is going very fast now.',\n",
       " 'language_feedback': 'The essay discusses the rise of artificial intelligence (AI) in Pakistan but has several language quality issues that need addressing. Spelling mistakes such as \"Artifical,\" \"importent,\" \"evrywhere,\" and others detract from the overall professionalism of the writing. The use of grammar is inconsistent, with phrases such as \"is becomeing\" and \"not much focus on\" that require correction for clarity. Additionally, the structure of the essay could be improved; there are unclear transitions between ideas, particularly when discussing educational institutions and governmental programs. There are also repetitive phrases and a lack of depth in analysis when considering both the advantages and challenges of implementing AI. A more sophisticated vocabulary and varied sentence structures would enhance the readability and engagement of the text. Finally, some statements lack clarity and specificity, which could confuse the reader. Overall, the piece presents important points but needs considerable refinement in language quality, grammar, and coherence.',\n",
       " 'analysis_feedback': \"The essay presents a basic overview of the rise of artificial intelligence (AI) in Pakistan, mentioning its various applications and the potential benefits it could bring. However, the depth of analysis is quite superficial and lacks critical engagement with the topic. The essay includes some relevant examples, such as universities starting AI labs and the government's Digital Pakistan initiative, but fails to delve deeper into the underlying challenges and implications of these developments. The writing is plagued by numerous spelling and grammatical mistakes, which distract from the overall message and professionalism of the piece. More structured arguments, clearer explanations, and a broader range of details would enhance the analysis. Additionally, discussing the socio-economic impacts and comparing Pakistan's efforts to other countries could provide a more informed perspective. Overall, while the essay touches on important points, the analysis lacks depth and clarity.\",\n",
       " 'clarity_feedback': 'The essay presents a basic overview of the state of artificial intelligence (AI) in Pakistan, touching on its potential benefits and challenges. However, the clarity of thought is compromised by numerous spelling and grammatical errors, which detract from the overall message. The organization of ideas follows a loose structure but could benefit from clearer transitions and a more cohesive flow. Key points regarding the impact of AI in various sectors are mentioned but lack depth and elaboration. The essay would be improved by providing specific examples of AI applications, a more detailed examination of the current state of AI education in Pakistan, and suggestions for overcoming the challenges mentioned. Furthermore, the writer should focus on proofreading for spelling and grammatical accuracy to enhance readability.',\n",
       " 'overall_feedback': '**Summarized Feedback:**\\n\\nThe essay on the rise of artificial intelligence (AI) in Pakistan effectively highlights its potential benefits and applications but suffers from several critical issues related to language quality, depth of analysis, and clarity of thought. Multiple spelling and grammatical errors, including incorrect terms like \"Artifical\" and phrases such as \"is becomeing,\" detract from the professionalism of the writing. The overall structure is loose, leading to unclear transitions between ideas, particularly regarding educational and governmental initiatives. \\n\\nWhile the essay mentions relevant examples, such as AI labs in universities and the government\\'s Digital Pakistan initiative, it lacks a deep exploration of the implications and challenges associated with these developments. The analysis would benefit from more structured arguments, specific examples, and a broader context, including socio-economic impacts and comparisons with other countries.\\n\\nTo improve the overall quality, the writer should focus on refining language accuracy, enhancing the depth of analysis, and ensuring clearer organization of ideas. More sophisticated vocabulary and varied sentence structures could also enhance readability and engagement. Overall, while the essay addresses important points, significant refinement is needed to achieve greater clarity, depth, and coherence.',\n",
       " 'individual_scores': [4, 4, 4],\n",
       " 'avg_score': 4.0}"
      ]
     },
     "execution_count": 49,
     "metadata": {},
     "output_type": "execute_result"
    }
   ],
   "source": [
    "initial_state = {\n",
    "    'essay': essay2\n",
    "}\n",
    "\n",
    "workflow.invoke(initial_state)"
   ]
  }
 ],
 "metadata": {
  "kernelspec": {
   "display_name": "myenv",
   "language": "python",
   "name": "python3"
  },
  "language_info": {
   "codemirror_mode": {
    "name": "ipython",
    "version": 3
   },
   "file_extension": ".py",
   "mimetype": "text/x-python",
   "name": "python",
   "nbconvert_exporter": "python",
   "pygments_lexer": "ipython3",
   "version": "3.13.7"
  }
 },
 "nbformat": 4,
 "nbformat_minor": 5
}
