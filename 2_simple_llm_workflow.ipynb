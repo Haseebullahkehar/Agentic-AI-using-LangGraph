{
 "cells": [
  {
   "cell_type": "code",
   "execution_count": 1,
   "id": "2ea42562",
   "metadata": {},
   "outputs": [],
   "source": [
    "from langgraph.graph import StateGraph , START, END \n",
    "from langchain_openai import ChatOpenAI\n",
    "# from langchain_google_genai import ChatGoogleGenerativeAI\n",
    "from typing import TypedDict\n",
    "from dotenv import load_dotenv\n",
    "import os "
   ]
  },
  {
   "cell_type": "code",
   "execution_count": 2,
   "id": "03bd274c",
   "metadata": {},
   "outputs": [],
   "source": [
    "load_dotenv()\n",
    "\n",
    "model = ChatOpenAI()\n",
    "\n",
    "# model = ChatGoogleGenerativeAI(\n",
    "#     model=\"gemini-1.5-8b\",  # or gemini-1.5-pro for better reasoning\n",
    "#     api_key=os.getenv(\"GEMINI_API_KEY\"),\n",
    "#     temperature=0.7\n",
    "# )"
   ]
  },
  {
   "cell_type": "code",
   "execution_count": 3,
   "id": "e1d06528",
   "metadata": {},
   "outputs": [],
   "source": [
    "# create a state \n",
    "class LLMState(TypedDict):   \n",
    "\n",
    "    question: str\n",
    "    answer: str\n",
    "\n"
   ]
  },
  {
   "cell_type": "code",
   "execution_count": 4,
   "id": "4671dee8",
   "metadata": {},
   "outputs": [],
   "source": [
    "def llm_qa(state: LLMState) -> LLMState:\n",
    "\n",
    "    # extract the question from state \n",
    "    question = state['question']\n",
    "\n",
    "    # form a prompt \n",
    "    prompt = f'Answer the following question {question}'\n",
    "\n",
    "    # ask that question to the llm \n",
    "    answer = model.invoke(prompt).content\n",
    "\n",
    "    # update the answer in the state \n",
    "    state['answer'] = answer \n",
    "\n",
    "    return state "
   ]
  },
  {
   "cell_type": "code",
   "execution_count": 5,
   "id": "fbbb3c66",
   "metadata": {},
   "outputs": [],
   "source": [
    "# create our graph \n",
    "\n",
    "graph = StateGraph(LLMState)\n",
    "\n",
    "# add nodes\n",
    "graph.add_node('llm_qa', llm_qa)\n",
    "\n",
    "# add edges \n",
    "graph.add_edge(START, 'llm_qa')\n",
    "graph.add_edge(\"llm_qa\", END)\n",
    "\n",
    "# compile the graph \n",
    "workflow = graph.compile()\n",
    "\n"
   ]
  },
  {
   "cell_type": "code",
   "execution_count": 8,
   "id": "4b0d5451",
   "metadata": {},
   "outputs": [
    {
     "name": "stdout",
     "output_type": "stream",
     "text": [
      "{'question': 'How far is moon from the earth?', 'answer': 'The average distance between the Earth and the Moon is about 238,855 miles (384,400 kilometers).'}\n"
     ]
    }
   ],
   "source": [
    "# Execute the graph \n",
    "initial_state = {\"question\": \"How far is moon from the earth?\"}\n",
    "\n",
    "final_state = workflow.invoke(initial_state)\n",
    "\n",
    "print(final_state)"
   ]
  }
 ],
 "metadata": {
  "kernelspec": {
   "display_name": "myenv",
   "language": "python",
   "name": "python3"
  },
  "language_info": {
   "codemirror_mode": {
    "name": "ipython",
    "version": 3
   },
   "file_extension": ".py",
   "mimetype": "text/x-python",
   "name": "python",
   "nbconvert_exporter": "python",
   "pygments_lexer": "ipython3",
   "version": "3.13.7"
  }
 },
 "nbformat": 4,
 "nbformat_minor": 5
}
