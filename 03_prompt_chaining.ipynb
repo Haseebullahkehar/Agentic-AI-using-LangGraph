{
 "cells": [
  {
   "cell_type": "code",
   "execution_count": 40,
   "id": "a47735be",
   "metadata": {},
   "outputs": [],
   "source": [
    "from langgraph.graph import StateGraph, START, END\n",
    "from langchain_openai import ChatOpenAI\n",
    "from typing import TypedDict\n",
    "from dotenv import load_dotenv"
   ]
  },
  {
   "cell_type": "code",
   "execution_count": 41,
   "id": "8d547afb",
   "metadata": {},
   "outputs": [],
   "source": [
    "load_dotenv()\n",
    "\n",
    "llm = ChatOpenAI()"
   ]
  },
  {
   "cell_type": "code",
   "execution_count": 42,
   "id": "1b33011e",
   "metadata": {},
   "outputs": [],
   "source": [
    "# create a state \n",
    "\n",
    "class BlogState(TypedDict):\n",
    "\n",
    "    title: str \n",
    "    outline: str\n",
    "    content: str \n",
    "    evaluate: str\n",
    "    rating: float \n",
    "\n",
    "\n"
   ]
  },
  {
   "cell_type": "code",
   "execution_count": 43,
   "id": "f473aaac",
   "metadata": {},
   "outputs": [],
   "source": [
    "# --- 3️⃣ Define Node Functions ---\n",
    "def create_outline(state: BlogState):\n",
    "    \"\"\"Generate an outline based on the blog title.\"\"\"\n",
    "    title = state[\"title\"]\n",
    "    prompt = f\"Create a detailed blog outline for the title: '{title}'\"\n",
    "    response = llm.invoke(prompt)\n",
    "    return {\"outline\": response.content.strip()}"
   ]
  },
  {
   "cell_type": "code",
   "execution_count": 44,
   "id": "a0089ed7",
   "metadata": {},
   "outputs": [],
   "source": [
    "def create_blog(state: BlogState):\n",
    "    \"\"\"Generate blog content from the outline.\"\"\"\n",
    "    outline = state[\"outline\"]\n",
    "    prompt = f\"Write a well-structured blog post following this outline:\\n{outline}\"\n",
    "    response = llm.invoke(prompt)\n",
    "    return {\"content\": response.content.strip()}"
   ]
  },
  {
   "cell_type": "code",
   "execution_count": 45,
   "id": "0c98f9e9",
   "metadata": {},
   "outputs": [],
   "source": [
    "def evaluate_blog(state: BlogState):\n",
    "    \"\"\"Evaluate blog content based on how well it follows the outline.\"\"\"\n",
    "    outline = state[\"outline\"]\n",
    "    content = state[\"content\"]\n",
    "    prompt = f\"\"\"\n",
    "Evaluate the following blog based on its alignment with the outline.\n",
    "Rate from 1 to 10 and give a short justification.\n",
    "\n",
    "Outline:\n",
    "{outline}\n",
    "\n",
    "Content:\n",
    "{content}\n",
    "\"\"\"\n",
    "    response = llm.invoke(prompt)\n",
    "    return {\"rating\": response.content.strip()}\n"
   ]
  },
  {
   "cell_type": "code",
   "execution_count": 46,
   "id": "7cf08d41",
   "metadata": {},
   "outputs": [],
   "source": [
    "# build a graph \n",
    "graph = StateGraph(BlogState)\n",
    "\n",
    "# Nodes\n",
    "graph.add_node(\"create_outline\", create_outline)\n",
    "graph.add_node(\"create_blog\", create_blog)\n",
    "graph.add_node(\"evaluate_blog\", evaluate_blog)\n",
    "\n",
    "# Edges (Prompt chaining)\n",
    "graph.add_edge(START, \"create_outline\")\n",
    "graph.add_edge(\"create_outline\", \"create_blog\")\n",
    "graph.add_edge(\"create_blog\", \"evaluate_blog\")\n",
    "graph.add_edge(\"evaluate_blog\", END)\n",
    "\n",
    "\n",
    "\n",
    "workflow = graph.compile()"
   ]
  },
  {
   "cell_type": "code",
   "execution_count": 47,
   "id": "63ac92b5",
   "metadata": {},
   "outputs": [],
   "source": [
    "initial_state = {\"title\": \"How AI Agents Are Changing Software Development\"}\n",
    "final_state = workflow.invoke(initial_state)\n"
   ]
  },
  {
   "cell_type": "code",
   "execution_count": 48,
   "id": "82f65e51",
   "metadata": {},
   "outputs": [
    {
     "name": "stdout",
     "output_type": "stream",
     "text": [
      "\n",
      "--- OUTLINE ---\n",
      "I. Introduction\n",
      " - Brief overview of artificial intelligence (AI) and its impact on various industries\n",
      " - Introduction to AI agents in software development\n",
      " \n",
      "II. What are AI Agents?\n",
      " - Definition of AI agents in the context of software development\n",
      " - Explanation of how AI agents differ from traditional software development methods\n",
      " \n",
      "III. Benefits of AI Agents in Software Development\n",
      " - Increased efficiency and productivity\n",
      " - Faster development times\n",
      " - Improved accuracy and quality of code\n",
      " \n",
      "IV. Examples of AI Agents in Action\n",
      " - Case studies of successful AI agents in software development\n",
      " - Overview of popular tools and platforms using AI agents\n",
      " \n",
      "V. Challenges and Limitations of AI Agents in Software Development\n",
      " - Potential risks and drawbacks of relying on AI agents\n",
      " - Ethical considerations and concerns\n",
      " \n",
      "VI. Future of AI Agents in Software Development\n",
      " - Predictions for how AI agents will continue to shape the software development landscape\n",
      " - Potential advancements and technological innovations\n",
      " \n",
      "VII. Conclusion\n",
      " - Recap of key points discussed in the blog\n",
      " - Closing thoughts on the significance of AI agents in software development.\n",
      "\n",
      "--- CONTENT ---\n",
      "Artificial Intelligence (AI) has become a ubiquitous technology that is reshaping industries across the globe. From healthcare to finance, AI is transforming the way businesses operate and how products and services are delivered. In the realm of software development, AI agents are playing a crucial role in streamlining processes and enhancing efficiency. In this blog post, we will explore the concept of AI agents in software development, their benefits, challenges, and the future they hold in shaping the industry.\n",
      "\n",
      "What are AI Agents?\n",
      "\n",
      "AI agents in software development are intelligent systems that can perform tasks autonomously without human intervention. These agents use algorithms and machine learning techniques to analyze data, identify patterns, and make decisions in real-time. Unlike traditional software development methods that rely on predefined rules and logic, AI agents have the ability to learn from vast amounts of data and adapt to changing conditions.\n",
      "\n",
      "Benefits of AI Agents in Software Development\n",
      "\n",
      "One of the key benefits of AI agents in software development is the increased efficiency and productivity they bring to the table. These agents can automate repetitive tasks, such as code generation and testing, enabling developers to focus on more creative and high-level tasks. Additionally, AI agents can help speed up development times by identifying bugs and potential issues early on in the process. This leads to faster delivery of high-quality software products.\n",
      "\n",
      "Moreover, AI agents can improve the accuracy and quality of code by detecting errors and suggesting optimizations. This not only reduces the likelihood of bugs and security vulnerabilities but also ensures that the software meets the desired performance standards.\n",
      "\n",
      "Examples of AI Agents in Action\n",
      "\n",
      "There are numerous successful examples of AI agents in software development. For instance, GitHub's CodeQL uses AI-powered code analysis to detect security vulnerabilities and code quality issues. Similarly, Google's TensorFlow is a popular platform that utilizes AI agents for machine learning tasks, such as natural language processing and image recognition.\n",
      "\n",
      "Challenges and Limitations of AI Agents in Software Development\n",
      "\n",
      "While AI agents offer many benefits, there are also challenges and limitations to consider. One potential risk is overreliance on AI agents, which may lead to errors if the system encounters unfamiliar scenarios. Additionally, ethical considerations, such as bias in AI algorithms and data privacy concerns, must be addressed to ensure that AI agents are used responsibly.\n",
      "\n",
      "Future of AI Agents in Software Development\n",
      "\n",
      "The future of AI agents in software development looks promising. As technology continues to advance, AI agents will become more sophisticated and capable of handling complex tasks. Predictions suggest that AI agents will continue to streamline software development processes, leading to faster innovation and improved product quality. Additionally, advancements in AI algorithms and technologies will enable developers to build smarter and more efficient software systems.\n",
      "\n",
      "Conclusion\n",
      "\n",
      "In conclusion, AI agents are transforming the software development landscape by enhancing efficiency, productivity, and code quality. While there are challenges and limitations to consider, the future of AI agents in software development holds great potential for shaping the industry. As AI technology continues to evolve, developers can expect to see more innovative solutions that simplify and improve the software development process. The significance of AI agents in software development cannot be understated, and businesses that embrace this technology will undoubtedly gain a competitive edge in the digital age.\n",
      "\n",
      "--- EVALUATION ---\n",
      "Rating: 9\n",
      "\n",
      "Justification: The blog aligns well with the outlined structure by covering the introduction of AI agents in software development, explaining their definition and benefits, providing examples of AI agents in action, discussing challenges and limitations, exploring the future of AI agents, and concluding with the significance of AI agents in software development. The content is well-organized, informative, and addresses key points outlined in the structure. The only improvement would be to provide more specific case studies and examples of successful AI agents in action to further illustrate their impact on software development.\n"
     ]
    }
   ],
   "source": [
    "print(\"\\n--- OUTLINE ---\")\n",
    "print(final_state[\"outline\"])\n",
    "print(\"\\n--- CONTENT ---\")\n",
    "print(final_state[\"content\"])\n",
    "print(\"\\n--- EVALUATION ---\")\n",
    "print(final_state[\"rating\"])"
   ]
  }
 ],
 "metadata": {
  "kernelspec": {
   "display_name": "myenv",
   "language": "python",
   "name": "python3"
  },
  "language_info": {
   "codemirror_mode": {
    "name": "ipython",
    "version": 3
   },
   "file_extension": ".py",
   "mimetype": "text/x-python",
   "name": "python",
   "nbconvert_exporter": "python",
   "pygments_lexer": "ipython3",
   "version": "3.13.7"
  }
 },
 "nbformat": 4,
 "nbformat_minor": 5
}
